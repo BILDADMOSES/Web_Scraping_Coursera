{
 "cells": [
  {
   "cell_type": "code",
   "execution_count": 15,
   "metadata": {},
   "outputs": [],
   "source": [
    "import requests\n",
    "from bs4 import BeautifulSoup"
   ]
  },
  {
   "cell_type": "code",
   "execution_count": 16,
   "metadata": {},
   "outputs": [],
   "source": [
    "result = requests.get(\"https://www.kenyajob.com/job-vacancies-search-kenya?f%5B0%5D=im_field_offre_secteur%3A133\")"
   ]
  },
  {
   "cell_type": "code",
   "execution_count": 18,
   "metadata": {},
   "outputs": [],
   "source": [
    "src = result.content"
   ]
  },
  {
   "cell_type": "code",
   "execution_count": 49,
   "metadata": {},
   "outputs": [],
   "source": [
    "soup = BeautifulSoup(src, 'html.parser')"
   ]
  },
  {
   "cell_type": "code",
   "execution_count": 78,
   "metadata": {},
   "outputs": [
    {
     "data": {
      "text/plain": [
       "[<h5><a href=\"/job-vacancies-kenya/ad-hoc-data-analyst-170913\">Ad-Hoc Data Analyst</a></h5>,\n",
       " <h5><a href=\"/job-vacancies-kenya/full-stack-software-engineering-intern-volunteerunpaid-171684\">Full Stack Software Engineering Intern (Volunteer/Unpaid)</a></h5>,\n",
       " <h5><a href=\"/job-vacancies-kenya/electrical-technician-173345\">Electrical Technician </a></h5>,\n",
       " <h5><a href=\"/job-vacancies-kenya/sap-abap-consultant-mf-172870\">SAP ABAP Consultant (M/F)</a></h5>,\n",
       " <h5><a href=\"/job-vacancies-kenya/sap-fi-cops-consultant-mf-172871\">SAP FI-CO/PS Consultant (M/F)</a></h5>,\n",
       " <h5><a href=\"/job-vacancies-kenya/sap-ehs-consultant-mf-172872\">SAP EHS Consultant (M/F)</a></h5>,\n",
       " <h5><a href=\"/job-vacancies-kenya/senior-sap-consultant-mf-172873\">Senior SAP Consultant (M/F)</a></h5>,\n",
       " <h5><a href=\"/job-vacancies-kenya/sap-mmsdewmppqmcar-consultant-mf-172874\">SAP MM/SD/EWM/PP/QM/CAR Consultant (M/F)</a></h5>,\n",
       " <h5><a href=\"/job-vacancies-kenya/lead-java-jee-developer-mf-172875\">Lead Java JEE Developer (M/F)</a></h5>,\n",
       " <h5><a href=\"/job-vacancies-kenya/ai-engineer-171194\">AI Engineer</a></h5>,\n",
       " <h5><a href=\"/job-vacancies-kenya/devops-engineer-171197\">DevOps Engineer</a></h5>,\n",
       " <h5><a href=\"/job-vacancies-kenya/full-stack-developer-171207\">Full Stack Developer</a></h5>,\n",
       " <h5><a href=\"/job-vacancies-kenya/senior-mobile-developer-reactjs-171213\">Senior Mobile Developer (ReactJS)</a></h5>,\n",
       " <h5><a href=\"/job-vacancies-kenya/director-data-171000\">Director of Data</a></h5>,\n",
       " <h5><a href=\"/job-vacancies-kenya/chief-staff-171003\">Chief of Staff</a></h5>,\n",
       " <h5><a href=\"/job-vacancies-kenya/senior-frontend-engineer-angular-171005\">Senior Frontend Engineer (Angular)</a></h5>,\n",
       " <h5><a href=\"/job-vacancies-kenya/senior-designer-growth-marketing-171007\">Senior Designer (Growth Marketing)</a></h5>,\n",
       " <h5><a href=\"/job-vacancies-kenya/human-resource-executive-171008\">Human Resource Executive</a></h5>,\n",
       " <h5><a href=\"/job-vacancies-kenya/technical-writer-product-trainer-170919\">Technical Writer &amp; Product Trainer</a></h5>,\n",
       " <h5><a href=\"/job-vacancies-kenya/operation-team-lead-170924\">Operation Team Lead</a></h5>,\n",
       " <h5><a href=\"/job-vacancies-kenya/director-deployment-data-management-analytics-170928\">Director of Deployment /Data Management and Analytics</a></h5>,\n",
       " <h5><a href=\"/job-vacancies-kenya/senior-uiux-designer-170933\">Senior UI/UX Designer</a></h5>,\n",
       " <h5><a href=\"/job-vacancies-kenya/security-operation-engineer-170936\">Security Operation Engineer</a></h5>,\n",
       " <h5><a href=\"/job-vacancies-kenya/competitive-enablement-manager-170802\">Competitive Enablement Manager</a></h5>,\n",
       " <h5><a href=\"/job-vacancies-kenya/lifecycle-senior-specialist-contract-management-health-safety-off-170810\">Lifecycle Senior Specialist: Contract Management - Health &amp; Safety Off</a></h5>]"
      ]
     },
     "execution_count": 78,
     "metadata": {},
     "output_type": "execute_result"
    }
   ],
   "source": [
    "h5_element = soup.find_all('h5')\n",
    "h5_element"
   ]
  },
  {
   "cell_type": "code",
   "execution_count": 87,
   "metadata": {},
   "outputs": [],
   "source": [
    "job_titles = [h5.find('a').text for h5 in h5_element]"
   ]
  },
  {
   "cell_type": "code",
   "execution_count": 94,
   "metadata": {},
   "outputs": [],
   "source": [
    "b_tags = soup.find_all('b')"
   ]
  },
  {
   "cell_type": "code",
   "execution_count": 105,
   "metadata": {},
   "outputs": [
    {
     "data": {
      "text/plain": [
       "[<b><a class=\"company-name\" href=\"/recruiter/170911\">CODINGO ASSIGNMENTS PTE. LTD.</a></b>,\n",
       " <b><a class=\"company-name\" href=\"/recruiter/171683\">GLOBAL OPEN DATA FOR AGRICULTURE AND NUTRITION </a></b>,\n",
       " <b><a class=\"company-name\" href=\"/recruiter/114372\">DOMINION AGRO AND BUSINESS ENT.</a></b>,\n",
       " <b><a class=\"company-name\" href=\"/recruiter/114673\">AFRICASHORE</a></b>,\n",
       " <b><a class=\"company-name\" href=\"/recruiter/114673\">AFRICASHORE</a></b>,\n",
       " <b><a class=\"company-name\" href=\"/recruiter/114673\">AFRICASHORE</a></b>,\n",
       " <b><a class=\"company-name\" href=\"/recruiter/114673\">AFRICASHORE</a></b>,\n",
       " <b><a class=\"company-name\" href=\"/recruiter/114673\">AFRICASHORE</a></b>,\n",
       " <b><a class=\"company-name\" href=\"/recruiter/114673\">AFRICASHORE</a></b>,\n",
       " <b><a class=\"company-name\" href=\"/recruiter/171184\">SORA UNION</a></b>,\n",
       " <b><a class=\"company-name\" href=\"/recruiter/171184\">SORA UNION</a></b>,\n",
       " <b><a class=\"company-name\" href=\"/recruiter/171184\">SORA UNION</a></b>,\n",
       " <b><a class=\"company-name\" href=\"/recruiter/171184\">SORA UNION</a></b>,\n",
       " <b><a class=\"company-name\" href=\"/recruiter/170996\">TESTGORILLA</a></b>,\n",
       " <b><a class=\"company-name\" href=\"/recruiter/170996\">TESTGORILLA</a></b>,\n",
       " <b><a class=\"company-name\" href=\"/recruiter/170996\">TESTGORILLA</a></b>,\n",
       " <b><a class=\"company-name\" href=\"/recruiter/170996\">TESTGORILLA</a></b>,\n",
       " <b><a class=\"company-name\" href=\"/recruiter/170996\">TESTGORILLA</a></b>,\n",
       " <b><a class=\"company-name\" href=\"/recruiter/170910\">LIGADATA</a></b>,\n",
       " <b><a class=\"company-name\" href=\"/recruiter/170910\">LIGADATA</a></b>,\n",
       " <b><a class=\"company-name\" href=\"/recruiter/170910\">LIGADATA</a></b>,\n",
       " <b><a class=\"company-name\" href=\"/recruiter/170910\">LIGADATA</a></b>,\n",
       " <b><a class=\"company-name\" href=\"/recruiter/170910\">LIGADATA</a></b>,\n",
       " <b><a class=\"company-name\" href=\"/recruiter/152275\">REMOTE</a></b>,\n",
       " <b><a class=\"company-name\" href=\"/recruiter/152275\">REMOTE</a></b>]"
      ]
     },
     "execution_count": 105,
     "metadata": {},
     "output_type": "execute_result"
    }
   ],
   "source": [
    "b_tags"
   ]
  },
  {
   "cell_type": "code",
   "execution_count": 116,
   "metadata": {},
   "outputs": [],
   "source": [
    "recruiter = [p.find('a').text for p in b_tags]"
   ]
  },
  {
   "cell_type": "code",
   "execution_count": 121,
   "metadata": {},
   "outputs": [
    {
     "name": "stdout",
     "output_type": "stream",
     "text": [
      "['Ad-Hoc Data Analyst', 'Full Stack Software Engineering Intern (Volunteer/Unpaid)', 'Electrical Technician ', 'SAP ABAP Consultant (M/F)', 'SAP FI-CO/PS Consultant (M/F)', 'SAP EHS Consultant (M/F)', 'Senior SAP Consultant (M/F)', 'SAP MM/SD/EWM/PP/QM/CAR Consultant (M/F)', 'Lead Java JEE Developer (M/F)', 'AI Engineer', 'DevOps Engineer', 'Full Stack Developer', 'Senior Mobile Developer (ReactJS)', 'Director of Data', 'Chief of Staff', 'Senior Frontend Engineer (Angular)', 'Senior Designer (Growth Marketing)', 'Human Resource Executive', 'Technical Writer & Product Trainer', 'Operation Team Lead', 'Director of Deployment /Data Management and Analytics', 'Senior UI/UX Designer', 'Security Operation Engineer', 'Competitive Enablement Manager', 'Lifecycle Senior Specialist: Contract Management - Health & Safety Off']\n",
      "['CODINGO ASSIGNMENTS PTE. LTD.', 'GLOBAL OPEN DATA FOR AGRICULTURE AND NUTRITION ', 'DOMINION AGRO AND BUSINESS ENT.', 'AFRICASHORE', 'AFRICASHORE', 'AFRICASHORE', 'AFRICASHORE', 'AFRICASHORE', 'AFRICASHORE', 'SORA UNION', 'SORA UNION', 'SORA UNION', 'SORA UNION', 'TESTGORILLA', 'TESTGORILLA', 'TESTGORILLA', 'TESTGORILLA', 'TESTGORILLA', 'LIGADATA', 'LIGADATA', 'LIGADATA', 'LIGADATA', 'LIGADATA', 'REMOTE', 'REMOTE']\n"
     ]
    }
   ],
   "source": []
  },
  {
   "cell_type": "code",
   "execution_count": 113,
   "metadata": {},
   "outputs": [],
   "source": [
    "# We are going to group it as: Position, Company, Region, Key Skills\n",
    "p_tags = soup.find_all('p')"
   ]
  },
  {
   "cell_type": "code",
   "execution_count": 123,
   "metadata": {},
   "outputs": [
    {
     "ename": "AttributeError",
     "evalue": "ResultSet object has no attribute 'attrs'. You're probably treating a list of elements like a single element. Did you call find_all() when you meant to call find()?",
     "output_type": "error",
     "traceback": [
      "\u001b[1;31m---------------------------------------------------------------------------\u001b[0m",
      "\u001b[1;31mAttributeError\u001b[0m                            Traceback (most recent call last)",
      "Cell \u001b[1;32mIn[123], line 1\u001b[0m\n\u001b[1;32m----> 1\u001b[0m \u001b[43mp_tags\u001b[49m\u001b[38;5;241;43m.\u001b[39;49m\u001b[43mattrs\u001b[49m\n",
      "File \u001b[1;32mc:\\Users\\Bildad Otieno\\anaconda3\\envs\\myenv\\lib\\site-packages\\bs4\\element.py:2428\u001b[0m, in \u001b[0;36mResultSet.__getattr__\u001b[1;34m(self, key)\u001b[0m\n\u001b[0;32m   2426\u001b[0m \u001b[38;5;28;01mdef\u001b[39;00m \u001b[38;5;21m__getattr__\u001b[39m(\u001b[38;5;28mself\u001b[39m, key):\n\u001b[0;32m   2427\u001b[0m \u001b[38;5;250m    \u001b[39m\u001b[38;5;124;03m\"\"\"Raise a helpful exception to explain a common code fix.\"\"\"\u001b[39;00m\n\u001b[1;32m-> 2428\u001b[0m     \u001b[38;5;28;01mraise\u001b[39;00m \u001b[38;5;167;01mAttributeError\u001b[39;00m(\n\u001b[0;32m   2429\u001b[0m         \u001b[38;5;124m\"\u001b[39m\u001b[38;5;124mResultSet object has no attribute \u001b[39m\u001b[38;5;124m'\u001b[39m\u001b[38;5;132;01m%s\u001b[39;00m\u001b[38;5;124m'\u001b[39m\u001b[38;5;124m. You\u001b[39m\u001b[38;5;124m'\u001b[39m\u001b[38;5;124mre probably treating a list of elements like a single element. Did you call find_all() when you meant to call find()?\u001b[39m\u001b[38;5;124m\"\u001b[39m \u001b[38;5;241m%\u001b[39m key\n\u001b[0;32m   2430\u001b[0m     )\n",
      "\u001b[1;31mAttributeError\u001b[0m: ResultSet object has no attribute 'attrs'. You're probably treating a list of elements like a single element. Did you call find_all() when you meant to call find()?"
     ]
    }
   ],
   "source": [
    "p_tags.attrs"
   ]
  },
  {
   "cell_type": "code",
   "execution_count": null,
   "metadata": {},
   "outputs": [],
   "source": []
  }
 ],
 "metadata": {
  "kernelspec": {
   "display_name": "myenv",
   "language": "python",
   "name": "python3"
  },
  "language_info": {
   "codemirror_mode": {
    "name": "ipython",
    "version": 3
   },
   "file_extension": ".py",
   "mimetype": "text/x-python",
   "name": "python",
   "nbconvert_exporter": "python",
   "pygments_lexer": "ipython3",
   "version": "3.9.16"
  }
 },
 "nbformat": 4,
 "nbformat_minor": 2
}
